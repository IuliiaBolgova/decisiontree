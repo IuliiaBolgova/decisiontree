{
 "cells": [
  {
   "cell_type": "raw",
   "id": "61ae5517-a410-47d8-92e4-3e30189ca6f5",
   "metadata": {},
   "source": [
    "-- Alias author so that it becomes unique_author\n",
    "SELECT DISTINCT author AS unique_author\n",
    "FROM books;"
   ]
  },
  {
   "cell_type": "raw",
   "id": "dd567a2e-a0d0-45cf-bb58-1c9d06b832ff",
   "metadata": {},
   "source": [
    "-- Count the number of birthdates in the people table\n",
    "SELECT COUNT(birthdate) AS count_birthdate\n",
    "FROM people;"
   ]
  },
  {
   "cell_type": "raw",
   "id": "a7434d1b-f970-4dae-b78e-b2aebe93244a",
   "metadata": {},
   "source": [
    "-- Count the records for languages and countries represented in the films table\n",
    "SELECT COUNT(language) AS count_languages, COUNT(country) AS count_countries\n",
    "FROM films;"
   ]
  },
  {
   "cell_type": "raw",
   "id": "9d319c24-6c2e-4336-9bcb-00f163458622",
   "metadata": {},
   "source": [
    "-- Count the distinct countries from the films table\n",
    "SELECT COUNT(DISTINCT country) AS count_distinct_countries\n",
    "FROM films;"
   ]
  },
  {
   "cell_type": "raw",
   "id": "7f86b1ca-5717-4901-8286-59f8b4c7ac04",
   "metadata": {},
   "source": [
    "-- Select film_ids and facebook_likes for ten records with less than 1000 likes \n",
    "SELECT film_id, facebook_likes\n",
    "FROM reviews\n",
    "WHERE facebook_likes < 1000;"
   ]
  },
  {
   "cell_type": "raw",
   "id": "e65a069c-fa22-4ae4-a3ee-de7017449481",
   "metadata": {},
   "source": [
    "-- Count the records with at least 100,000 votes\n",
    "SELECT COUNT(num_votes) AS films_over_100K_votes\n",
    "FROM reviews\n",
    "WHERE num_votes > 100000;"
   ]
  },
  {
   "cell_type": "raw",
   "id": "e59a24c2-b101-4e40-bd73-c95ded5d5087",
   "metadata": {},
   "source": [
    "-- Select the title and release_year for films released between 1990 and 2000\n",
    "SELECT title, release_year\n",
    "FROM films\n",
    "WHERE release_year BETWEEN 1990 AND 2000;"
   ]
  },
  {
   "cell_type": "raw",
   "id": "e96cbee7-fbee-4a8d-acb3-a92285efacde",
   "metadata": {},
   "source": [
    "SELECT title, release_year\n",
    "FROM films\n",
    "WHERE (release_year BETWEEN 1990 AND 2000)\n",
    "-- Narrow down your query to films with budgets > $100 million\n",
    "\tAND budget > 100000000 ;"
   ]
  },
  {
   "cell_type": "raw",
   "id": "9214ebc1-9aad-4ba9-b3f3-43c586054a94",
   "metadata": {},
   "source": [
    "SELECT title, release_year\n",
    "FROM films\n",
    "WHERE release_year BETWEEN 1990 AND 2000\n",
    "\tAND budget > 100000000\n",
    "-- Amend the query to include Spanish or French-language films\n",
    "\tAND (language = 'Spanish' OR language = 'English');"
   ]
  },
  {
   "cell_type": "raw",
   "id": "0eb0ec72-403c-40ce-b448-6a933355bac4",
   "metadata": {},
   "source": [
    "-- Select the names that start with B\n",
    "SELECT name\n",
    "FROM people\n",
    "WHERE name LIKE 'B%'"
   ]
  },
  {
   "cell_type": "raw",
   "id": "97803c2d-00d1-47aa-95a9-5a78e64b861c",
   "metadata": {},
   "source": [
    "-- Find the title, certification, and language all films certified NC-17 or R that are in English, Italian, or Greek\n",
    "SELECT title, certification, language\n",
    "FROM films\n",
    "WHERE certification IN ('NC-17', 'R')\n",
    "\tAND language IN ('English', 'Italian', 'Greek');"
   ]
  },
  {
   "cell_type": "raw",
   "id": "5bcc58bd-2b67-46df-972c-16288d371ee0",
   "metadata": {},
   "source": [
    "-- Find the release_year and film_count of each year\n",
    "SELECT release_year, COUNT(*) AS film_count\n",
    "FROM films\n",
    "GROUP BY release_year;"
   ]
  },
  {
   "cell_type": "raw",
   "id": "c7fd7e0d-e559-41ab-896b-677039fbf110",
   "metadata": {},
   "source": [
    "-- Find the release_year and average duration of films for each year\n",
    "SELECT release_year, AVG(duration)\n",
    "FROM films\n",
    "GROUP BY release_year;"
   ]
  },
  {
   "cell_type": "raw",
   "id": "cd33d28f-0b7b-40c2-8939-10bf29a20068",
   "metadata": {},
   "source": [
    "SELECT release_year, COUNT(DISTINCT(language))\n",
    "FROM films\n",
    "WHERE release_year IS NOT NULL\n",
    "GROUP BY release_year\n",
    "ORDER BY COUNT DESC;"
   ]
  },
  {
   "cell_type": "markdown",
   "id": "9ea84332-b036-478f-9b95-ebf6be3b3680",
   "metadata": {},
   "source": [
    "release_year\tcount\n",
    "2006\t16\n",
    "2015\t15\n",
    "2005\t14\n",
    "2013\t13\n",
    "2008\t13\n",
    "2004\t12\n",
    "2009\t12"
   ]
  },
  {
   "cell_type": "raw",
   "id": "978e5580-f9e8-4457-93e5-7f00f9e2f94d",
   "metadata": {},
   "source": [
    "-- Select the country and distinct count of certification as certification_count\n",
    "SELECT country, COUNT(DISTINCT certification) AS certification_count\n",
    "FROM films\n",
    "-- Group by country\n",
    "GROUP BY country\n",
    "-- Filter results to countries with more than 10 different certifications\n",
    "HAVING COUNT(DISTINCT certification) > 10;"
   ]
  },
  {
   "cell_type": "code",
   "execution_count": null,
   "id": "aee21af3-6898-4e7d-a29a-8a871c460976",
   "metadata": {},
   "outputs": [],
   "source": [
    "-- Select the country and average_budget from films\n",
    "SELECT country, AVG(budget) AS average_budget\n",
    "FROM films\n",
    "-- Group by country\n",
    "GROUP BY country\n",
    "-- Filter to countries with an average_budget of more than one billion\n",
    "HAVING AVG(budget) > 1000000000\n",
    "-- Order by descending order of the aggregated budget\n",
    "ORDER BY average_budget DESC;"
   ]
  },
  {
   "cell_type": "code",
   "execution_count": null,
   "id": "aee2c9a1-cc8d-49d7-94a7-0b8e591724cc",
   "metadata": {},
   "outputs": [],
   "source": [
    "SELECT release_year, AVG(budget) AS avg_budget, AVG(gross) AS avg_gross\n",
    "FROM films\n",
    "WHERE release_year > 1990\n",
    "GROUP BY release_year\n",
    "HAVING AVG(budget) > 60000000\n",
    "-- Order the results from highest to lowest average gross and limit to one\n",
    "ORDER BY avg_gross DESC\n",
    "LIMIT 1;"
   ]
  },
  {
   "cell_type": "raw",
   "id": "0f8982cb-d344-4e02-86f6-90633bf2ee55",
   "metadata": {},
   "source": [
    "-- Select name fields (with alias) and region \n",
    "SELECT cities.name AS city, countries.name AS country, region\n",
    "FROM cities\n",
    "INNER JOIN countries\n",
    "ON cities.country_code = countries.code;"
   ]
  },
  {
   "cell_type": "raw",
   "id": "4baaa041-bb73-4582-aed3-6f1ba62c4781",
   "metadata": {},
   "source": [
    "SELECT c.name AS country, l.name AS language, official\n",
    "FROM countries AS c\n",
    "INNER JOIN languages AS l\n",
    "-- Match using the code column\n",
    "USING(code);"
   ]
  },
  {
   "cell_type": "code",
   "execution_count": null,
   "id": "4dd4763c-dd56-4fa0-a7bd-5a41a110c310",
   "metadata": {},
   "outputs": [],
   "source": [
    "SELECT \n",
    "    c1.name AS city,\n",
    "    code,\n",
    "    c2.name AS country,\n",
    "    region,\n",
    "    city_proper_pop\n",
    "FROM cities AS c1\n",
    "-- Perform an inner join with cities as c1 and countries as c2 on country code\n",
    "INNER JOIN countries AS c2\n",
    "ON c1.country_code = c2.code\n",
    "ORDER BY code DESC;"
   ]
  },
  {
   "cell_type": "code",
   "execution_count": null,
   "id": "b2aa411e-65d3-47d7-b7f8-0e9d9e67b434",
   "metadata": {},
   "outputs": [],
   "source": [
    "SELECT code, name\n",
    "FROM countries\n",
    "WHERE continent = 'Oceania'\n",
    "-- Filter for countries not included in the bracketed subquery\n",
    "  AND code NOT IN\n",
    "    (SELECT code\n",
    "    FROM currencies);"
   ]
  },
  {
   "cell_type": "code",
   "execution_count": null,
   "id": "38e946b1-d1e5-41f0-a35c-10af1a4c358c",
   "metadata": {},
   "outputs": [],
   "source": [
    "SELECT *\n",
    "FROM populations\n",
    "-- Filter for only those populations where life expectancy is 1.15 times higher than average\n",
    "WHERE life_expectancy > 1.15 *\n",
    "  (SELECT AVG(life_expectancy)\n",
    "   FROM populations\n",
    "   WHERE year = 2015) \n",
    "    AND year = 2015;"
   ]
  },
  {
   "cell_type": "code",
   "execution_count": null,
   "id": "f59a8dce-5d8b-480f-a3ad-58dae783b6bc",
   "metadata": {},
   "outputs": [],
   "source": [
    "-- Select relevant fields from cities table\n",
    "SELECT name, country_code, urbanarea_pop\n",
    "FROM cities\n",
    "-- Filter using a subquery on the countries table\n",
    "WHERE name IN\n",
    "  (SELECT capital\n",
    "   FROM countries)\n",
    "ORDER BY urbanarea_pop DESC;"
   ]
  },
  {
   "cell_type": "code",
   "execution_count": null,
   "id": "5b5637ec-579e-4bc8-962c-247855efcd69",
   "metadata": {},
   "outputs": [],
   "source": [
    "-- Find top nine countries with the most cities\n",
    "SELECT countries.name AS country, COUNT(*) AS cities_num\n",
    "FROM countries\n",
    "LEFT JOIN cities\n",
    "ON countries.code = cities.country_code\n",
    "GROUP BY country\n",
    "-- Order by count of cities as cities_num\n",
    "ORDER BY cities_num DESC, country\n",
    "LIMIT 9;"
   ]
  },
  {
   "cell_type": "raw",
   "id": "3d1177a5-8a9c-4419-84df-d17dbfdbdc90",
   "metadata": {},
   "source": [
    "SELECT \n",
    "\t-- Select the stage and average goals from the subquery\n",
    "\ts.stage,\n",
    "    ROUND(s.avg_goals,2) AS avg_goals\n",
    "FROM \n",
    "\t-- Select the stage and average goals in 2012/2013\n",
    "\t(SELECT\n",
    "         stage,\n",
    "         AVG(home_goal + away_goal) AS avg_goals\n",
    "     FROM match\n",
    "     WHERE season = '2012/2013'\n",
    "     GROUP BY stage) AS s\n",
    "WHERE \n",
    "\t-- Filter the main query using the subquery\n",
    "\ts.avg_goals > (SELECT AVG(home_goal + away_goal) \n",
    "                   FROM match WHERE season = '2012/2013');"
   ]
  },
  {
   "cell_type": "code",
   "execution_count": null,
   "id": "60780cd0-74c3-4147-879b-cd1063ef9113",
   "metadata": {},
   "outputs": [],
   "source": [
    "SELECT \n",
    "\t-- Select the season and max goals scored in a match\n",
    "\tseason,\n",
    "    MAX(home_goal + away_goal) AS max_goals,\n",
    "    -- Select the overall max goals scored in a match\n",
    "   (SELECT MAX(home_goal + away_goal) FROM match) AS overall_max_goals,\n",
    "    -- Select the max number of goals scored in any match in July\n",
    "   (SELECT MAX(home_goal + away_goal) \n",
    "        FROM match\n",
    "        WHERE id IN (\n",
    "              SELECT id FROM match WHERE EXTRACT(MONTH FROM date) = 07)) AS july_max_goals\n",
    "FROM match\n",
    "GROUP BY season;"
   ]
  },
  {
   "cell_type": "code",
   "execution_count": null,
   "id": "59db14df-9486-4f45-9492-c8cf4b3e2938",
   "metadata": {},
   "outputs": [],
   "source": [
    "season\tmax_goals\toverall_max_goals\tjuly_max_goals\n",
    "2013/2014\t10\t11\t7\n",
    "2012/2013\t11\t11\t7\n",
    "2014/2015\t10\t11\t7\n",
    "2011/2012\t10\t11\t7\n"
   ]
  },
  {
   "cell_type": "code",
   "execution_count": null,
   "id": "4ea0a5a9-fce6-475c-88f5-057ec2b65728",
   "metadata": {},
   "outputs": [],
   "source": [
    "-- Set up your CTE\n",
    "WITH match_list AS (\n",
    "    SELECT \n",
    "  \t\tcountry_id, \n",
    "  \t\tid\n",
    "    FROM match\n",
    "    WHERE (home_goal + away_goal) >= 10)\n",
    "-- Select league and count of matches from the CTE\n",
    "SELECT\n",
    "    l.name AS league,\n",
    "    COUNT(match_list.id) AS matches\n",
    "FROM league AS l\n",
    "-- Join the CTE to the league table\n",
    "LEFT JOIN match_list \n",
    "ON l.id = match_list.country_id\n",
    "GROUP BY l.name;"
   ]
  },
  {
   "cell_type": "code",
   "execution_count": null,
   "id": "e32219f6-b976-4647-a276-1652dc271d8f",
   "metadata": {},
   "outputs": [],
   "source": [
    "-- Set up your CTE\n",
    "WITH match_list AS (\n",
    "  -- Select the league, date, home, and away goals\n",
    "    SELECT \n",
    "  \t\tl.name AS league, \n",
    "     \tm.date, \n",
    "  \t\tm.home_goal, \n",
    "  \t\tm.away_goal,\n",
    "       (m.home_goal + m.away_goal) AS total_goals\n",
    "    FROM match AS m\n",
    "    LEFT JOIN league as l ON m.country_id = l.id)\n",
    "-- Select the league, date, home, and away goals from the CTE\n",
    "SELECT league, date, home_goal, away_goal\n",
    "FROM match_list\n",
    "-- Filter by total goals\n",
    "WHERE total_goals >= 10;"
   ]
  },
  {
   "cell_type": "code",
   "execution_count": null,
   "id": "76a35e75-3144-4b6d-a7f0-8dde3d1f175d",
   "metadata": {},
   "outputs": [],
   "source": [
    "-- Set up your CTE\n",
    "WITH match_list AS (\n",
    "    SELECT \n",
    "  \t\tcountry_id, \n",
    "  \t   (home_goal + away_goal) AS goals\n",
    "    FROM match\n",
    "    -- Create a list of match IDs to filter data in the CTE\n",
    "    WHERE id IN (\n",
    "       SELECT id\n",
    "       FROM match\n",
    "       WHERE season = '2013/2014' AND EXTRACT(MONTH FROM date) = 08))\n",
    "-- Select the league name and average of goals in the CTE\n",
    "SELECT\n",
    "\tl.name,\n",
    "    AVG(match_list.goals)\n",
    "FROM league AS l\n",
    "-- Join the CTE onto the league table\n",
    "LEFT JOIN match_list ON l.id = match_list.country_id\n",
    "GROUP BY l.name;"
   ]
  },
  {
   "cell_type": "code",
   "execution_count": null,
   "id": "fac855fe-68c9-4f44-ae7b-7f9656812c17",
   "metadata": {},
   "outputs": [],
   "source": [
    "SELECT\n",
    "    m.date,\n",
    "   (SELECT team_long_name\n",
    "    FROM team AS t\n",
    "    -- Connect the team to the match table\n",
    "    WHERE t.team_api_id = m.hometeam_id) AS hometeam\n",
    "FROM match AS m;"
   ]
  },
  {
   "cell_type": "code",
   "execution_count": null,
   "id": "dee3205e-a563-4fc1-b442-220d52363cce",
   "metadata": {},
   "outputs": [],
   "source": [
    "SELECT \n",
    "\t-- Select the id, country name, season, home, and away goals\n",
    "\tm.id,\n",
    "\tc.name AS country,\n",
    "\tm.season,\n",
    "\tm.home_goal,\n",
    "\tm.away_goal,\n",
    "    -- Use a window to include the aggregate average in each row\n",
    "\tAVG(m.home_goal + m.away_goal) OVER() AS overall_avg\n",
    "FROM match AS m\n",
    "LEFT JOIN country AS c ON m.country_id = c.id;"
   ]
  },
  {
   "cell_type": "code",
   "execution_count": null,
   "id": "1ac61336-b309-4441-9fd5-7d79c4030f77",
   "metadata": {},
   "outputs": [],
   "source": [
    "# Import necessary module\n",
    "from sqlalchemy import create_engine\n",
    "\n",
    "# Create engine: engine\n",
    "engine = create_engine('sqlite:///Chinook.sqlite')"
   ]
  },
  {
   "cell_type": "code",
   "execution_count": null,
   "id": "7a1e5add-293a-4a03-9029-09e51a9c9a1c",
   "metadata": {},
   "outputs": [],
   "source": [
    "# Import necessary module\n",
    "from sqlalchemy import create_engine\n",
    "\n",
    "# Create engine: engine\n",
    "engine = create_engine('sqlite:///Chinook.sqlite')\n",
    "\n",
    "# Save the table names to a list: table_names\n",
    "table_names = engine.table_names()\n",
    "\n",
    "# Print the table names to the shell\n",
    "print(table_names)\n"
   ]
  },
  {
   "cell_type": "code",
   "execution_count": null,
   "id": "1c2dd310-e01d-42b0-85bb-a526ba9fce8e",
   "metadata": {},
   "outputs": [],
   "source": [
    "# Import packages\n",
    "from sqlalchemy import create_engine\n",
    "import pandas as pd\n",
    "\n",
    "# Create engine: engine\n",
    "engine = create_engine('sqlite:///Chinook.sqlite')\n",
    "\n",
    "# Open engine connection\n",
    "con = engine.connect()\n",
    "\n",
    "# Perform query: rs\n",
    "rs = con.execute(\"SELECT * FROM Album\")\n",
    "\n",
    "# Save results of the query to DataFrame: df\n",
    "df = pd.DataFrame(rs.fetchall())\n",
    "\n",
    "# Close connection\n",
    "con.close()\n",
    "\n",
    "# Print head of DataFrame df\n",
    "print(df.head())\n"
   ]
  },
  {
   "cell_type": "code",
   "execution_count": null,
   "id": "312f4ead-712b-45ef-8bee-6fff35428e3a",
   "metadata": {},
   "outputs": [],
   "source": [
    "# Open engine in context manager\n",
    "# Perform query and save results to DataFrame: df\n",
    "with engine.connect() as con:\n",
    "    rs = con.execute(\"SELECT LastName, Title FROM Employee\")\n",
    "    df = pd.DataFrame(rs.fetchmany(size=6))\n",
    "    df.columns = rs.keys()\n",
    "\n",
    "# Print the length of the DataFrame df\n",
    "print(len(df))\n",
    "\n",
    "# Print the head of the DataFrame df\n",
    "print(df.head())"
   ]
  },
  {
   "cell_type": "code",
   "execution_count": null,
   "id": "0790e201-a555-4fa5-a624-ac7310c9684c",
   "metadata": {},
   "outputs": [],
   "source": [
    "  LastName                Title\n",
    "0    Adams      General Manager\n",
    "1  Edwards        Sales Manager\n",
    "2  Peacock  Sales Support Agent\n",
    "3     Park  Sales Support Agent\n",
    "4  Johnson  Sales Support Agent"
   ]
  },
  {
   "cell_type": "code",
   "execution_count": null,
   "id": "cbadaf24-4fff-485f-bb2d-c8f4c6aba62d",
   "metadata": {},
   "outputs": [],
   "source": [
    "# Create engine: engine\n",
    "engine = create_engine('sqlite:///Chinook.sqlite')\n",
    "\n",
    "# Open engine in context manager\n",
    "# Perform query and save results to DataFrame: df\n",
    "with engine.connect() as con:\n",
    "    rs = con.execute(\"SELECT * FROM Employee WHERE EmployeeId >= 6\")\n",
    "    df = pd.DataFrame(rs.fetchall())\n",
    "    df.columns = rs.keys()\n",
    "\n",
    "# Print the head of the DataFrame df\n",
    "print(df.head())"
   ]
  },
  {
   "cell_type": "code",
   "execution_count": null,
   "id": "68ed3fb2-5897-4d1b-8db1-636ba496d8ac",
   "metadata": {},
   "outputs": [],
   "source": [
    "# Create engine: engine\n",
    "engine = create_engine('sqlite:///Chinook.sqlite')\n",
    "\n",
    "# Open engine in context manager\n",
    "with engine.connect() as con:\n",
    "    rs = con.execute(\"SELECT * FROM Employee ORDER BY BirthDate\")\n",
    "    df = pd.DataFrame(rs.fetchall())\n",
    "\n",
    "    # Set the DataFrame's column names\n",
    "    df.columns = rs.keys()\n",
    "\n",
    "# Print head of DataFrame\n",
    "print(df.head())\n"
   ]
  },
  {
   "cell_type": "code",
   "execution_count": null,
   "id": "1e1bf7c3-6737-4cf0-b706-70815096bb9b",
   "metadata": {},
   "outputs": [],
   "source": [
    "# Import packages\n",
    "from sqlalchemy import create_engine\n",
    "import pandas as pd\n",
    "\n",
    "# Create engine: engine\n",
    "engine = create_engine('sqlite:///Chinook.sqlite')\n",
    "\n",
    "# Execute query and store records in DataFrame: df\n",
    "df = pd.read_sql_query(\"SELECT * FROM Album\", engine)\n",
    "\n",
    "# Print head of DataFrame\n",
    "print(df.head())\n",
    "\n",
    "# Open engine in context manager and store query result in df1\n",
    "with engine.connect() as con:\n",
    "    rs = con.execute(\"SELECT * FROM Album\")\n",
    "    df1 = pd.DataFrame(rs.fetchall())\n",
    "    df1.columns = rs.keys()\n",
    "\n",
    "# Confirm that both methods yield the same result\n",
    "print(df.equals(df1))"
   ]
  },
  {
   "cell_type": "code",
   "execution_count": null,
   "id": "783895b2-cbe1-4691-83e8-4c878e9f9706",
   "metadata": {},
   "outputs": [],
   "source": [
    "# Import packages\n",
    "from sqlalchemy import create_engine\n",
    "import pandas as pd\n",
    "\n",
    "# Create engine: engine\n",
    "engine = create_engine('sqlite:///Chinook.sqlite')\n",
    "\n",
    "# Execute query and store records in DataFrame: df\n",
    "df = pd.read_sql_query(\n",
    "    \"SELECT * FROM Employee WHERE EmployeeId >= 6 ORDER BY BirthDate\",\n",
    "    engine\n",
    ")\n",
    "\n",
    "# Print head of DataFrame\n",
    "print(df.head())\n"
   ]
  },
  {
   "cell_type": "code",
   "execution_count": null,
   "id": "68463151-9b43-431c-8db0-4652f7037e52",
   "metadata": {},
   "outputs": [],
   "source": [
    "# Open engine in context manager\n",
    "# Perform query and save results to DataFrame: df\n",
    "with engine.connect() as con:\n",
    "    rs = con.execute(\"SELECT Title, Name FROM Album INNER JOIN Artist on Album.ArtistID = Artist.ArtistID\")\n",
    "    df = pd.DataFrame(rs.fetchall())\n",
    "    df.columns = rs.keys()\n",
    "\n",
    "# Print head of DataFrame df\n",
    "print(df.head())"
   ]
  },
  {
   "cell_type": "code",
   "execution_count": null,
   "id": "87bc97a1-126c-400e-814b-b2c283495e51",
   "metadata": {},
   "outputs": [],
   "source": [
    "# Execute query and store records in DataFrame: df\n",
    "df = pd.read_sql_query(\n",
    "    \"SELECT * FROM PlaylistTrack INNER JOIN Track ON PlaylistTrack.TrackId = Track.TrackId WHERE Milliseconds < 250000\",\n",
    "    engine\n",
    ")\n",
    "\n",
    "# Print head of DataFrame\n",
    "print(df.head())"
   ]
  }
 ],
 "metadata": {
  "kernelspec": {
   "display_name": "Python 3 (ipykernel)",
   "language": "python",
   "name": "python3"
  },
  "language_info": {
   "codemirror_mode": {
    "name": "ipython",
    "version": 3
   },
   "file_extension": ".py",
   "mimetype": "text/x-python",
   "name": "python",
   "nbconvert_exporter": "python",
   "pygments_lexer": "ipython3",
   "version": "3.11.7"
  }
 },
 "nbformat": 4,
 "nbformat_minor": 5
}
