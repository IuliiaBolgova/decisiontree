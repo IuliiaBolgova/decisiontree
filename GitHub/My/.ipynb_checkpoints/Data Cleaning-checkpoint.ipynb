{
 "cells": [
  {
   "cell_type": "markdown",
   "id": "bdb236c0-7caf-429c-8035-6042e2567252",
   "metadata": {
    "tags": []
   },
   "source": [
    "# DATA CLEANING"
   ]
  },
  {
   "cell_type": "markdown",
   "id": "a24c5d68-8e95-46aa-8e22-83aebec54a31",
   "metadata": {
    "tags": []
   },
   "source": [
    "### String to Int | Delete $ (Strip)"
   ]
  },
  {
   "cell_type": "code",
   "execution_count": null,
   "id": "ddcad3c2-0583-47e0-9cad-91c609514b44",
   "metadata": {},
   "outputs": [],
   "source": [
    "# Remove $ from Revenue column\n",
    "sales['Revenue'] = sales['Revenue'].str.strip('$')\n",
    "sales['Revenue'] = sales['Revenue'].astype('int')"
   ]
  },
  {
   "cell_type": "code",
   "execution_count": null,
   "id": "605c123e-8dc1-43bf-b483-5716fcf85f6f",
   "metadata": {},
   "outputs": [],
   "source": [
    "# Verify that Revenue is now an integer\n",
    "assert sales['Revenue'].dtype == 'int'"
   ]
  },
  {
   "cell_type": "markdown",
   "id": "263d9b19-bbf1-4457-bebc-c7067cff1c6f",
   "metadata": {},
   "source": [
    "## The assert statement"
   ]
  },
  {
   "cell_type": "code",
   "execution_count": 19,
   "id": "e9aaeefe-f2a7-4355-915b-f96ab72de5cd",
   "metadata": {
    "tags": []
   },
   "outputs": [],
   "source": [
    "# This will pass\n",
    "assert 1+1 == 2"
   ]
  },
  {
   "cell_type": "markdown",
   "id": "1add2bfa-a581-45a3-907e-43c61e39b0a7",
   "metadata": {},
   "source": [
    "## Numeric or categorical?"
   ]
  },
  {
   "cell_type": "code",
   "execution_count": null,
   "id": "a01dbc32-343d-4c16-9841-48aed9f3a730",
   "metadata": {},
   "outputs": [],
   "source": [
    "# Convert to categorical\n",
    "df[\"marriage_status\"] = df[\"marriage_status\"].astype('category')\n",
    "df.describe()"
   ]
  },
  {
   "cell_type": "markdown",
   "id": "6935800d-1984-4660-8310-1930dd517c6d",
   "metadata": {},
   "source": [
    "## Can future sign-ups exist?"
   ]
  },
  {
   "cell_type": "code",
   "execution_count": null,
   "id": "ed5a699a-d1d3-4674-ac99-bb3d730dfd5d",
   "metadata": {},
   "outputs": [],
   "source": [
    "# Import date time\n",
    "import datetime as dt\n",
    "today_date = dt.date. today()\n",
    "user_signups[user_signups|'subscription_date'] > dt. date. today ()1"
   ]
  },
  {
   "cell_type": "markdown",
   "id": "1db3f214-9e02-49d2-beaf-bd99dc52f25e",
   "metadata": {},
   "source": [
    "### DROP VALUES (TWO WAYS)"
   ]
  },
  {
   "cell_type": "code",
   "execution_count": null,
   "id": "5917d2c3-65b5-4671-836e-a5993c3a7128",
   "metadata": {},
   "outputs": [],
   "source": [
    "# Drop values using filtering\n",
    "movies = movies[movies['avg_rating'] ≤ 5]\n",
    "# Drop values using .drop()\n",
    "movies.drop (movies[movies['avg_rating'] > 5].index, inplace ="
   ]
  },
  {
   "cell_type": "markdown",
   "id": "5241d262-5238-4ef5-88fd-b47ee37ad345",
   "metadata": {},
   "source": [
    "## Check deleting values"
   ]
  },
  {
   "cell_type": "code",
   "execution_count": null,
   "id": "f2b86bb1-2618-41e8-9700-a3fc3377191c",
   "metadata": {
    "tags": []
   },
   "outputs": [],
   "source": [
    "# Assert results\n",
    "assert movies['avg_rating'].max() <="
   ]
  },
  {
   "cell_type": "markdown",
   "id": "00e4aaff-cdf2-4a30-b16c-56bf7b8d365f",
   "metadata": {},
   "source": [
    "## Third Way - Replace Values"
   ]
  },
  {
   "cell_type": "code",
   "execution_count": null,
   "id": "f2af6e4e-6ad7-434d-b1a3-a2c6d142875f",
   "metadata": {},
   "outputs": [],
   "source": [
    "# Convert avg_rating > 5 to 5\n",
    "movies.loc[movies['avg_rating'] ≥ 5, 'avg_rating'] = 5"
   ]
  },
  {
   "cell_type": "markdown",
   "id": "18075ccb-971c-450b-927b-c6e67e923126",
   "metadata": {},
   "source": [
    "# Cleaning Date"
   ]
  },
  {
   "cell_type": "markdown",
   "id": "9cbce388-fc5c-42e8-9990-d255f75c8f45",
   "metadata": {},
   "source": [
    "## Convert to Date"
   ]
  },
  {
   "cell_type": "code",
   "execution_count": null,
   "id": "1fddf565-2b54-4b5c-b9c5-84265ce12ef3",
   "metadata": {},
   "outputs": [],
   "source": [
    "# Convert to date\n",
    "user_signupsI'subscription_date'] = pd.to_datetime(user_signups['subscription_date ']).dt.date"
   ]
  },
  {
   "cell_type": "code",
   "execution_count": null,
   "id": "71fac9bb-d2c4-45af-ae37-934130c72bc0",
   "metadata": {
    "tags": []
   },
   "outputs": [],
   "source": [
    "today = dt.date.today()\n",
    "\n",
    "# Drop the data\n",
    "# Drop values using filtering\n",
    "user_signups = user_signups[user_signups['subscription_date'] ≤ today_date]\n",
    "\n",
    "# Drop values using .drop()\n",
    "user_signups.drop(user_signups[user_signups['subscription_date'] > today_date].index, inplace = True)"
   ]
  },
  {
   "cell_type": "code",
   "execution_count": null,
   "id": "c311fc43-faf2-4811-a9ca-8eb7501f3634",
   "metadata": {},
   "outputs": [],
   "source": [
    "# Drop values using filtering\n",
    "user_signups.loc[user_signups['subscription_date'] > today_date, 'subscription_date'] = today_date"
   ]
  },
  {
   "cell_type": "markdown",
   "id": "32782493-9e02-447c-8a64-6c43a0d09121",
   "metadata": {},
   "source": [
    "## Duplicate"
   ]
  },
  {
   "cell_type": "code",
   "execution_count": null,
   "id": "01ee2b28-56f7-4601-b485-a8e1d2515e8c",
   "metadata": {},
   "outputs": [],
   "source": [
    "# Get duplicates across all columns\n",
    "duplicates = height_weight.duplicated()\n",
    "print(duplicates)"
   ]
  },
  {
   "cell_type": "markdown",
   "id": "6a786709-a965-4a4d-90f6-ec0f2ae50583",
   "metadata": {},
   "source": [
    "True, False"
   ]
  },
  {
   "cell_type": "code",
   "execution_count": null,
   "id": "11c4eeda-b499-4eb7-a6f1-5f6a11bd0a44",
   "metadata": {},
   "outputs": [],
   "source": [
    "height_weight['duplicates']"
   ]
  },
  {
   "cell_type": "markdown",
   "id": "41ec51b9-eab5-4096-886f-e3cd75d89145",
   "metadata": {},
   "source": [
    "### Check duplicated (3 cloumns)"
   ]
  },
  {
   "cell_type": "code",
   "execution_count": null,
   "id": "778cb306-ddfe-4e1f-9c05-0d17ca731562",
   "metadata": {},
   "outputs": [],
   "source": [
    "# Column names to check for duplication\n",
    "column_names = ['first_name','last_name', 'address']\n",
    "duplicates = height_weight.duplicated(subset = column_names, keep = False)"
   ]
  },
  {
   "cell_type": "code",
   "execution_count": null,
   "id": "b08e78a0-1df7-42d4-8190-d78a23f11901",
   "metadata": {},
   "outputs": [],
   "source": [
    "# Output duplicate values\n",
    "height_weight[duplicates].sort_values(by = 'first_name')"
   ]
  },
  {
   "cell_type": "markdown",
   "id": "a65b562e-91ec-45f2-b2e9-387f1d2c1499",
   "metadata": {},
   "source": [
    "### Drop complete duplicates"
   ]
  },
  {
   "cell_type": "code",
   "execution_count": null,
   "id": "dbe24975-ed89-4b00-ab6b-5c7295f5d47e",
   "metadata": {},
   "outputs": [],
   "source": [
    "# Drop duplicates\n",
    "height_weight.drop_duplicates(inplace = True)"
   ]
  },
  {
   "cell_type": "markdown",
   "id": "a4d0289e-ee26-4876-861e-8dce84964dff",
   "metadata": {},
   "source": [
    "### A statistical measure to combine each set of duplicated values"
   ]
  },
  {
   "cell_type": "markdown",
   "id": "8e4e40e1-8a0a-476e-98a0-79abe9df856c",
   "metadata": {},
   "source": [
    "#### The groupby and agg() methods"
   ]
  },
  {
   "cell_type": "code",
   "execution_count": null,
   "id": "1f9cf829-35cb-4af1-aa9b-795f1108ab9f",
   "metadata": {},
   "outputs": [],
   "source": [
    "# Group by column names and produce statistical summaries\n",
    "column_names = ['first_name'|'last_name', 'address']\n",
    "summaries = {'height': 'max', 'weight': 'mean'}\n",
    "height_weight = height_weight.groupby(by = column_names).agg(summaries).reset_index()"
   ]
  },
  {
   "cell_type": "code",
   "execution_count": null,
   "id": "7cfe961e-7821-4423-995e-b62c544a0ab2",
   "metadata": {},
   "outputs": [],
   "source": [
    "# Make sure aggregation is done\n",
    "duplicates = height_weight.duplicated(subset = column_names, keep = False)\n",
    "height_weight[duplicates].sort_values(by = 'first_name')"
   ]
  },
  {
   "cell_type": "markdown",
   "id": "17b32957-d492-4f6c-909c-92e8cf1eb062",
   "metadata": {},
   "source": [
    "# Membership constraints"
   ]
  },
  {
   "cell_type": "markdown",
   "id": "f063b4e3-15aa-4829-84b0-2305332afb68",
   "metadata": {},
   "source": [
    "### Finding inconsistent categories (not in category)"
   ]
  },
  {
   "cell_type": "code",
   "execution_count": null,
   "id": "5bcce043-3497-43e8-8227-25e32321aed0",
   "metadata": {},
   "outputs": [],
   "source": [
    "inconsistent_categories = set(study_data['blood_type').difference(categories['blood_type'])\n",
    "print(inconsistent_categories)"
   ]
  },
  {
   "cell_type": "code",
   "execution_count": null,
   "id": "73440492-6931-4410-a270-97b927c491db",
   "metadata": {},
   "outputs": [],
   "source": [
    "# Get and print rows with inconsistent categories\n",
    "inconsistent_rows = study_data['blood_type'].isin(inconsistent_categories)\n",
    "study_data[inconsistent_rows]"
   ]
  },
  {
   "cell_type": "markdown",
   "id": "24911c72-03cf-409c-84cb-09540ca6a08c",
   "metadata": {},
   "source": [
    "### Dropping inconsistent categories"
   ]
  },
  {
   "cell_type": "code",
   "execution_count": null,
   "id": "991d9395-a891-4945-94c9-5e30d0b67b18",
   "metadata": {},
   "outputs": [],
   "source": [
    "# Drop inconsistent categories and get consistent data only\n",
    "consistent_data = study_data[~inconsistent_rows]"
   ]
  },
  {
   "cell_type": "markdown",
   "id": "7fd350de-6be0-4fdd-bb29-96edf1fc34a9",
   "metadata": {},
   "source": [
    "### Value consistency"
   ]
  },
  {
   "cell_type": "code",
   "execution_count": null,
   "id": "2089db7e-deb8-4ef8-9ff2-937cc229f339",
   "metadata": {},
   "outputs": [],
   "source": [
    "# Capitalize\n",
    "marriage_status[marriage_status'] = marriage_status[ 'marriage_status'].str.upper ()\n",
    "marriage_status['marriage_status'].value_counts()\n",
    "# UNMARRIED MARRIED\n",
    "\n",
    "# Lowercase\n",
    "marriage_status['marriage_status'] = marriage_status[ 'marriage_status '].str.lower()\n",
    "marriage_status['marriage_status'].value_counts)"
   ]
  },
  {
   "cell_type": "markdown",
   "id": "5ebce071-bb91-4864-91f8-bcf912ce539d",
   "metadata": {},
   "source": [
    "### Trailing spaces: married , \" married', 'unmarried ', \" unmarried'."
   ]
  },
  {
   "cell_type": "code",
   "execution_count": null,
   "id": "520ebe41-ed79-4a71-87c6-0378f936b511",
   "metadata": {},
   "outputs": [],
   "source": [
    "# Get marriage status column\n",
    "marriage_status = demographics['marriage_status']\n",
    "marriage_status.value_counts)"
   ]
  },
  {
   "cell_type": "code",
   "execution_count": null,
   "id": "9e3b45b2-b343-492a-b859-ae53c8a680ca",
   "metadata": {},
   "outputs": [],
   "source": [
    "# Strip all spaces\n",
    "demographics = demographics['marriage_status'].str.strip()\n",
    "demographics| 'marriage_status'].value_counts()"
   ]
  },
  {
   "cell_type": "markdown",
   "id": "c9f5c8d9-1c2a-4387-9acd-864b7949c095",
   "metadata": {},
   "source": [
    "### CREATE CATEGORY COLUMN"
   ]
  },
  {
   "cell_type": "markdown",
   "id": "57630144-4a76-45d8-994e-03c78e286023",
   "metadata": {},
   "source": [
    "### Create categories out of data: income_group column from income column."
   ]
  },
  {
   "cell_type": "code",
   "execution_count": null,
   "id": "2b20a430-4875-433f-92cb-d3142dbfa12b",
   "metadata": {},
   "outputs": [],
   "source": [
    "# Using cut) - create category ranges and names\n",
    "ranges = [0,200000,500000,пр.inf]\n",
    "group_names = ['0-200K', '200K-500K', '500K+']\n",
    "# Create income group column\n",
    "demographics['income_group'1 = pd.cut(demographics['household_income'], bins=ranges,\n",
    "labels=group_names)\n",
    "demographicsIl'income_group', 'household_income'11"
   ]
  },
  {
   "cell_type": "markdown",
   "id": "c181a6eb-46aa-49e9-9b55-a8d7e5902cec",
   "metadata": {},
   "source": [
    "### Map categories to fewer ones: reducing categories in categorical column. operating_system column is: 'Microsoft', 'Macos', 'IOS', 'Android', 'Linux' operating_system column should become: 'DesktopS', 'Mobile0S'"
   ]
  },
  {
   "cell_type": "code",
   "execution_count": null,
   "id": "e0791ab2-9735-4cbb-83d9-371fd12c7d04",
   "metadata": {},
   "outputs": [],
   "source": [
    "# Create mapping dictionary and replace\n",
    "mapping = {'Microsoft': 'Desktop0S', 'MacOS': 'Desktop0S', 'Linux': 'Desktop0S',\n",
    "'IOS': 'MobileOS', 'Android':'Mobile0S'}\n",
    "devices['operating_system'] = devices['operating_system'].replace (mapping)\n",
    "devices['operating_system'].unique()\n",
    "array(I'Desktop0S', 'Mobile0S'], dtype=object)"
   ]
  },
  {
   "cell_type": "code",
   "execution_count": null,
   "id": "7f679e20-222c-45fc-828d-706d9186333a",
   "metadata": {},
   "outputs": [],
   "source": [
    "# Print unique values of both columns\n",
    "print(airlines['dest_region'].unique())\n",
    "print(airlines['dest_size'].unique())\n",
    "\n",
    "# Lower dest_region column and then replace \"eur\" with \"europe\"\n",
    "airlines['dest_region'] = airlines['dest_region'].str.lower() \n",
    "airlines['dest_region'] = airlines['dest_region'].replace({'eur':'europe'})\n",
    "\n",
    "# Remove white spaces from `dest_size`\n",
    "airlines['dest_size'] = airlines['dest_size'].str.strip()\n",
    "\n",
    "# Verify changes have been effected\n",
    "print(airlines['dest_size'].unique())\n",
    "print(airlines['dest_region'].unique())"
   ]
  },
  {
   "cell_type": "markdown",
   "id": "fe170b23-cd92-45e7-a75f-d0c01e08ffa6",
   "metadata": {},
   "source": [
    "### example"
   ]
  },
  {
   "cell_type": "code",
   "execution_count": null,
   "id": "4ac2b7ba-fb05-4610-9945-2f88bfbd7d67",
   "metadata": {},
   "outputs": [],
   "source": [
    "# Create ranges for categories\n",
    "label_ranges = [0, 60, 180, np.inf]\n",
    "label_names = ['short', 'medium', 'long']\n",
    "\n",
    "# Create wait_type column\n",
    "airlines['wait_type'] = pd.cut(airlines['wait_min'], bins = label_ranges, \n",
    "                               labels = label_names)\n",
    "\n",
    "# Create mappings and replace\n",
    "mappings = {'Monday':'weekday', 'Tuesday':'weekday', 'Wednesday': 'weekday', \n",
    "            'Thursday': 'weekday', 'Friday': 'weekday', \n",
    "            'Saturday': 'weekend', 'Sunday': 'weekend'}\n",
    "\n",
    "airlines['day_week'] = airlines['day'].replace(mappings)\n",
    "print(airlines)"
   ]
  },
  {
   "cell_type": "code",
   "execution_count": null,
   "id": "fbaf19f8-65f4-4035-94c8-f8c1de4a3ba7",
   "metadata": {},
   "outputs": [],
   "source": [
    "        id        day        airline        destination    dest_region  ...     cleanliness         safety        satisfaction  wait_type day_week\n",
    "0     1351    Tuesday    UNITED INTL             KANSAI           Asia  ...           Clean        Neutral      Very satisfied     medium  weekday\n",
    "1      373     Friday         ALASKA  SAN JOSE DEL CABO  Canada/Mexico  ...           Clean      Very safe      Very satisfied     medium  weekday\n",
    "2     2820   Thursday          DELTA        LOS ANGELES        West US  ...         Average  Somewhat safe             Neutral     medium  weekday\n",
    "3     1157    Tuesday      SOUTHWEST        LOS ANGELES        West US  ...           Clean      Very safe  Somewhat satsified       long  weekday\n",
    "4     2992  Wednesday       AMERICAN              MIAMI        East US  ...  Somewhat clean      Very safe  Somewhat satsified       long  weekday\n",
    "...    ...        ...            ...                ...            ...  ...             ...            ...                 ...        ...      ...\n",
    "2804  1475    Tuesday         ALASKA       NEW YORK-JFK        East US  ...  Somewhat clean        Neutral  Somewhat satsified       long  weekday\n",
    "2805  2222   Thursday      SOUTHWEST            PHOENIX        West US  ...           Clean      Very safe      Very satisfied     medium  weekday\n",
    "2806  2684     Friday         UNITED            ORLANDO        East US  ...           Clean      Very safe      Very satisfied     medium  weekday\n",
    "2807  2549    Tuesday        JETBLUE         LONG BEACH        West US  ...           Clean  Somewhat safe      Very satisfied     medium  weekday\n",
    "2808  2162   Saturday  CHINA EASTERN            QINGDAO           Asia  ...           Clean      Very safe  Somewhat satsified       long  weekend\n",
    "\n",
    "[2477 rows x 14 columns]"
   ]
  }
 ],
 "metadata": {
  "kernelspec": {
   "display_name": "Python 3 (ipykernel)",
   "language": "python",
   "name": "python3"
  },
  "language_info": {
   "codemirror_mode": {
    "name": "ipython",
    "version": 3
   },
   "file_extension": ".py",
   "mimetype": "text/x-python",
   "name": "python",
   "nbconvert_exporter": "python",
   "pygments_lexer": "ipython3",
   "version": "3.11.7"
  }
 },
 "nbformat": 4,
 "nbformat_minor": 5
}
