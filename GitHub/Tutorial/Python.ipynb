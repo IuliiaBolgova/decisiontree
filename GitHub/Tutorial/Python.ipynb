{
 "cells": [
  {
   "cell_type": "markdown",
   "id": "0a3d265d-bf52-4114-a9e5-73451c58a78b",
   "metadata": {
    "tags": []
   },
   "source": [
    "<h1 style=\"font-size:3rem; color:orange;\">Python Tutorial</h1>"
   ]
  },
  {
   "cell_type": "markdown",
   "id": "40ec68bb-e4c2-4bdf-a32f-61e27e2ef1a8",
   "metadata": {},
   "source": [
    "<h1 style=\"font-size:2rem; color:orange;\">Python Tutorial</h1>"
   ]
  },
  {
   "cell_type": "markdown",
   "id": "0dca6ddd-472f-4054-baa8-89af30f0239b",
   "metadata": {},
   "source": [
    "## Manipulating lists for fun and profit"
   ]
  },
  {
   "cell_type": "code",
   "execution_count": 18,
   "id": "6bbf461b-dee6-4990-8df7-2c62c3c75bc2",
   "metadata": {
    "tags": []
   },
   "outputs": [
    {
     "name": "stdout",
     "output_type": "stream",
     "text": [
      "['Ximena', 'Aliza', 'Ayden', 'Calvin', 'Rowen', 'Sandeep']\n",
      "['Ximena', 'Aliza', 'Ayden', 'Calvin', 'Sandeep']\n"
     ]
    }
   ],
   "source": [
    "# Create a list containing the names: baby_names\n",
    "baby_names = ['Ximena','Aliza', 'Ayden', 'Calvin']\n",
    "\n",
    "# Extend baby_names with 'Rowen' and 'Sandeep'\n",
    "baby_names_new= ['Rowen', 'Sandeep']\n",
    "baby_names.extend(baby_names_new)\n",
    "print(baby_names)\n",
    "\n",
    "# Find the position of 'Rowen': position\n",
    "position = baby_names.index('Rowen')\n",
    "\n",
    "# Remove 'Rowen' from baby_names\n",
    "baby_names.pop(position)\n",
    "\n",
    "# Print baby_names\n",
    "print(baby_names)"
   ]
  },
  {
   "cell_type": "markdown",
   "id": "d2f07469-4c83-44d2-adc1-e7e920969693",
   "metadata": {},
   "source": [
    "## Looping over lists"
   ]
  },
  {
   "cell_type": "code",
   "execution_count": null,
   "id": "59d21e9c-4e66-4fab-9f16-c8a6ddefd9cb",
   "metadata": {
    "tags": []
   },
   "outputs": [],
   "source": [
    "# Create the list comprehension: baby_names\n",
    "baby_names = [item[3] for item in records]\n",
    "    \n",
    "# Print the sorted the names in alphabetical order\n",
    "print(sorted(baby_names))"
   ]
  },
  {
   "cell_type": "markdown",
   "id": "34aeee8a-08ca-48de-afaa-59ab06d78915",
   "metadata": {},
   "source": [
    "['Abigail', 'Addison', 'Amelia', 'Aubrey', 'Ava', 'Avery', 'Brooklyn', 'Charlotte', 'Chloe', 'Elizabeth', 'Ella', 'Emily', 'Emma', 'Evelyn', 'Grace', 'Harper', 'Isabella', 'Lillian', 'Madison', 'Mia', 'Natalie', 'Olivia', 'Sofia', 'Sophia', 'Victoria', 'Zoey']"
   ]
  },
  {
   "cell_type": "markdown",
   "id": "4fd882cd-cebf-496d-a91e-51ecfe8244b1",
   "metadata": {},
   "source": [
    "## Using and unpacking tuples"
   ]
  },
  {
   "cell_type": "code",
   "execution_count": null,
   "id": "ef7e8c46-8d0e-45c2-b5e2-50ec37fb2905",
   "metadata": {
    "tags": []
   },
   "outputs": [],
   "source": [
    "# Pair up the girl and boy names: pairs\n",
    "pairs = zip(girl_names, boy_names)\n",
    "\n",
    "# Iterate over pairs\n",
    "for rank, pair in enumerate(pairs):\n",
    "    # Unpack pair: girl_name, boy_name\n",
    "    girl_name, boy_name = pair\n",
    "    # Print the rank and names associated with each rank\n",
    "    print(f'Rank {rank+1}: {girl_name} and {boy_name}')"
   ]
  },
  {
   "cell_type": "markdown",
   "id": "abec7f19-bcfc-4447-b9f7-15d08496ac3a",
   "metadata": {},
   "source": [
    "Rank 1: Jada and Josiah\n",
    "Rank 2: Emily and Ethan\n",
    "Rank 3: Ava and David\n",
    "Rank 4: Serenity and Jayden\n",
    "Rank 5: Claire and Mason\n",
    "Rank 6: Sophia and Ryan\n",
    "Rank 7: Sarah and Christian\n",
    "Rank 8: Ashley and Isaiah\n",
    "Rank 9: Chaya and Jayden\n",
    "Rank 10: Abigail and Michael\n",
    "Rank 11: Zoe and Noah\n",
    "Rank 12: Leah and Samuel\n",
    "Rank 13: Hailey and Sebastian\n",
    "Rank 14: Ava and Noah\n",
    "Rank 15: Olivia and Dylan\n",
    "Rank 16: Emma and Lucas\n",
    "Rank 17: Chloe and Joshua\n",
    "Rank 18: Sophia and Angel\n",
    "Rank 19: Aaliyah and Jacob\n",
    "Rank 20: Angela and Matthew\n",
    "Rank 21: Camila and Josiah\n",
    "Rank 22: Savannah and Jacob\n",
    "Rank 23: Serenity and Muhammad\n",
    "Rank 24: Chloe and Alexander\n",
    "Rank 25: Fatoumata and Jason"
   ]
  },
  {
   "cell_type": "markdown",
   "id": "d8f2dc8b-6905-4a89-8a62-4715d17b219a",
   "metadata": {},
   "source": [
    "## Formatted String Literals (\"f\" strings)"
   ]
  },
  {
   "cell_type": "code",
   "execution_count": null,
   "id": "e5f175b9-bc8c-4fdc-82d3-69ddf76f3161",
   "metadata": {
    "tags": []
   },
   "outputs": [],
   "source": [
    "# Loop over top_ten_girl_names and unpack each tuple into top_ten_rank and name\n",
    "for top_ten_rank, name in top_ten_girl_names:\n",
    "  \t# Print each name in the proper format\n",
    "    print(f\"Rank #: { top_ten_rank } - { name }\")"
   ]
  },
  {
   "cell_type": "markdown",
   "id": "6c72c393-e89a-4c61-94a7-3b162b77e38d",
   "metadata": {
    "tags": []
   },
   "source": [
    "Rank #: 1 - Jada\n",
    "Rank #: 2 - Emily\n",
    "Rank #: 3 - Ava\n",
    "Rank #: 4 - Serenity\n",
    "Rank #: 5 - Claire\n",
    "Rank #: 6 - Sophia\n",
    "Rank #: 7 - Sarah\n",
    "Rank #: 8 - Ashley\n",
    "Rank #: 9 - Chaya\n",
    "Rank #: 10 - Abigail"
   ]
  },
  {
   "cell_type": "markdown",
   "id": "474829b0-def3-46a9-98a4-492a18a8c502",
   "metadata": {},
   "source": [
    "## Combining multiple strings"
   ]
  },
  {
   "cell_type": "code",
   "execution_count": null,
   "id": "e84905c0-bcc9-4067-b59a-70d04202478f",
   "metadata": {},
   "outputs": [],
   "source": []
  }
 ],
 "metadata": {
  "kernelspec": {
   "display_name": "Python 3 (ipykernel)",
   "language": "python",
   "name": "python3"
  },
  "language_info": {
   "codemirror_mode": {
    "name": "ipython",
    "version": 3
   },
   "file_extension": ".py",
   "mimetype": "text/x-python",
   "name": "python",
   "nbconvert_exporter": "python",
   "pygments_lexer": "ipython3",
   "version": "3.11.7"
  }
 },
 "nbformat": 4,
 "nbformat_minor": 5
}
