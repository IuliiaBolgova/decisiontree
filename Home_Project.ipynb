{
 "cells": [
  {
   "cell_type": "code",
   "execution_count": null,
   "id": "44e4e11b",
   "metadata": {},
   "outputs": [],
   "source": [
    "import pandas as pd\n",
    "\n",
    "# Load the dataset\n",
    "logins_df = pd.read_json('logins.json')\n",
    "\n",
    "# Convert to datetime\n",
    "logins_df['login_time'] = pd.to_datetime(logins_df['login_time'])\n",
    "\n",
    "# Inspect the data\n",
    "print(logins_df.info())\n",
    "print(logins_df.head())\n"
   ]
  }
 ],
 "metadata": {
  "kernelspec": {
   "display_name": "Python 3 (ipykernel)",
   "language": "python",
   "name": "python3"
  },
  "language_info": {
   "codemirror_mode": {
    "name": "ipython",
    "version": 3
   },
   "file_extension": ".py",
   "mimetype": "text/x-python",
   "name": "python",
   "nbconvert_exporter": "python",
   "pygments_lexer": "ipython3",
   "version": "3.11.7"
  }
 },
 "nbformat": 4,
 "nbformat_minor": 5
}
